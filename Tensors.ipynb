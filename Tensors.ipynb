{
  "nbformat": 4,
  "nbformat_minor": 0,
  "metadata": {
    "colab": {
      "provenance": [],
      "gpuType": "T4",
      "include_colab_link": true
    },
    "kernelspec": {
      "name": "python3",
      "display_name": "Python 3"
    },
    "language_info": {
      "name": "python"
    },
    "accelerator": "GPU"
  },
  "cells": [
    {
      "cell_type": "markdown",
      "metadata": {
        "id": "view-in-github",
        "colab_type": "text"
      },
      "source": [
        "<a href=\"https://colab.research.google.com/github/sirjoecabz/Pytorch-Tutorial-Youtube/blob/main/Tensors.ipynb\" target=\"_parent\"><img src=\"https://colab.research.google.com/assets/colab-badge.svg\" alt=\"Open In Colab\"/></a>"
      ]
    },
    {
      "cell_type": "markdown",
      "source": [
        "# **TENSORS**\n",
        "\n",
        "*   A torch.Tensor is a multi-dimensional matrix containing elements of a single data type.\n",
        "\n",
        "*   Similar To Numpy Arrays, but full of fun things that make them work better on GPU's (vs regular CPU's).\n",
        "\n",
        "*  default data type of float32.\n",
        "\n",
        "* More suitable for deep learning than a numpy array.\n",
        "\n",
        "\n",
        "\n",
        "\n",
        "\n"
      ],
      "metadata": {
        "id": "SPuFeQGa_B9v"
      }
    },
    {
      "cell_type": "code",
      "source": [
        "import torch\n",
        "import numpy as np"
      ],
      "metadata": {
        "id": "9M7GniiD_HDg"
      },
      "execution_count": 4,
      "outputs": []
    },
    {
      "cell_type": "markdown",
      "source": [
        "# **LISTS**\n"
      ],
      "metadata": {
        "id": "lBRfw7H0Afv3"
      }
    },
    {
      "cell_type": "code",
      "source": [
        "my_list = [[1,2,3,4,5],[6,7,8,9,10]]\n",
        "my_list"
      ],
      "metadata": {
        "id": "QiHJf-taAhCF",
        "colab": {
          "base_uri": "https://localhost:8080/"
        },
        "outputId": "ed14e3d6-2851-435c-d904-c743252ed542"
      },
      "execution_count": 2,
      "outputs": [
        {
          "output_type": "execute_result",
          "data": {
            "text/plain": [
              "[[1, 2, 3, 4, 5], [6, 7, 8, 9, 10]]"
            ]
          },
          "metadata": {},
          "execution_count": 2
        }
      ]
    },
    {
      "cell_type": "code",
      "source": [],
      "metadata": {
        "id": "bSH8DeVbAjPF"
      },
      "execution_count": null,
      "outputs": []
    },
    {
      "cell_type": "markdown",
      "source": [
        "# **NUMPY ARRAYS**"
      ],
      "metadata": {
        "id": "K6xTiYlzAj6f"
      }
    },
    {
      "cell_type": "code",
      "source": [
        "np1 = np.random.rand(3,4)\n",
        "np1"
      ],
      "metadata": {
        "id": "zqUEpvzhAltl",
        "colab": {
          "base_uri": "https://localhost:8080/"
        },
        "outputId": "cf04300d-d931-4d8a-d5ec-8333b51caa94"
      },
      "execution_count": 5,
      "outputs": [
        {
          "output_type": "execute_result",
          "data": {
            "text/plain": [
              "array([[0.40307028, 0.0829594 , 0.30881284, 0.80070114],\n",
              "       [0.19499369, 0.15752986, 0.78835019, 0.74923848],\n",
              "       [0.11372841, 0.34575476, 0.77067389, 0.55474641]])"
            ]
          },
          "metadata": {},
          "execution_count": 5
        }
      ]
    },
    {
      "cell_type": "code",
      "source": [
        "np1.dtype\n"
      ],
      "metadata": {
        "id": "53ypJQHuAnmd",
        "colab": {
          "base_uri": "https://localhost:8080/"
        },
        "outputId": "3bc0aef1-26cb-4112-a3c1-6eaaa19895ff"
      },
      "execution_count": 6,
      "outputs": [
        {
          "output_type": "execute_result",
          "data": {
            "text/plain": [
              "dtype('float64')"
            ]
          },
          "metadata": {},
          "execution_count": 6
        }
      ]
    },
    {
      "cell_type": "markdown",
      "source": [
        "# **TENSORS**"
      ],
      "metadata": {
        "id": "zcdsJIdKAoVP"
      }
    },
    {
      "cell_type": "code",
      "source": [
        "tensor_2d = torch.randn(3,4)\n",
        "tensor_2d"
      ],
      "metadata": {
        "id": "Nscq13tnAqYU",
        "colab": {
          "base_uri": "https://localhost:8080/"
        },
        "outputId": "272ba73e-b843-413b-c40e-45594aeaf94d"
      },
      "execution_count": 8,
      "outputs": [
        {
          "output_type": "execute_result",
          "data": {
            "text/plain": [
              "tensor([[-1.3590, -0.7511,  0.0412,  0.4551],\n",
              "        [ 1.0968, -0.4117, -0.1846, -0.2482],\n",
              "        [-2.8044, -1.6538,  0.9534,  1.3533]])"
            ]
          },
          "metadata": {},
          "execution_count": 8
        }
      ]
    },
    {
      "cell_type": "code",
      "source": [
        "tensor_2d.dtype"
      ],
      "metadata": {
        "colab": {
          "base_uri": "https://localhost:8080/"
        },
        "id": "5JXqtHcqDd-s",
        "outputId": "57497a5c-89a2-45ff-80e7-a9ba797a28ce"
      },
      "execution_count": 9,
      "outputs": [
        {
          "output_type": "execute_result",
          "data": {
            "text/plain": [
              "torch.float32"
            ]
          },
          "metadata": {},
          "execution_count": 9
        }
      ]
    },
    {
      "cell_type": "code",
      "source": [
        "tensor_3d = torch.randn(2,3,4)\n",
        "tensor_3d"
      ],
      "metadata": {
        "colab": {
          "base_uri": "https://localhost:8080/"
        },
        "id": "WdKNvryyDvmE",
        "outputId": "9d282d50-3f62-4c30-dd45-aa8e3114cf06"
      },
      "execution_count": 10,
      "outputs": [
        {
          "output_type": "execute_result",
          "data": {
            "text/plain": [
              "tensor([[[-0.6836,  0.3054, -1.9861,  0.3260],\n",
              "         [-0.5857, -0.9370,  0.3218, -1.3215],\n",
              "         [-0.2791,  0.5781,  1.5911, -1.6476]],\n",
              "\n",
              "        [[-1.3334, -0.4799, -0.0716,  0.5661],\n",
              "         [-0.0927, -0.5124,  1.0659, -0.4842],\n",
              "         [ 0.2138,  0.0042,  0.9764,  0.4409]]])"
            ]
          },
          "metadata": {},
          "execution_count": 10
        }
      ]
    },
    {
      "cell_type": "code",
      "source": [
        "tensor_4d = torch.ones(2,3,4)\n",
        "tensor_4d"
      ],
      "metadata": {
        "id": "FdBvdjysD8gM",
        "colab": {
          "base_uri": "https://localhost:8080/"
        },
        "outputId": "11fbc2e0-1ec9-4fc5-d84a-a54d3a26cb68"
      },
      "execution_count": 12,
      "outputs": [
        {
          "output_type": "execute_result",
          "data": {
            "text/plain": [
              "tensor([[[1., 1., 1., 1.],\n",
              "         [1., 1., 1., 1.],\n",
              "         [1., 1., 1., 1.]],\n",
              "\n",
              "        [[1., 1., 1., 1.],\n",
              "         [1., 1., 1., 1.],\n",
              "         [1., 1., 1., 1.]]])"
            ]
          },
          "metadata": {},
          "execution_count": 12
        }
      ]
    },
    {
      "cell_type": "code",
      "source": [
        "my_tensor = torch.tensor(np1)\n",
        "my_tensor"
      ],
      "metadata": {
        "colab": {
          "base_uri": "https://localhost:8080/"
        },
        "id": "T9Xy-yFwmpDn",
        "outputId": "0dd4e212-1076-401f-c7f3-4e6d73a61cd9"
      },
      "execution_count": 13,
      "outputs": [
        {
          "output_type": "execute_result",
          "data": {
            "text/plain": [
              "tensor([[0.4031, 0.0830, 0.3088, 0.8007],\n",
              "        [0.1950, 0.1575, 0.7884, 0.7492],\n",
              "        [0.1137, 0.3458, 0.7707, 0.5547]], dtype=torch.float64)"
            ]
          },
          "metadata": {},
          "execution_count": 13
        }
      ]
    }
  ]
}